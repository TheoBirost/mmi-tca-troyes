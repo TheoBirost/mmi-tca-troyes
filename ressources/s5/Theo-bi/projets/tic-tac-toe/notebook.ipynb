{
 "cells": [
  {
   "cell_type": "markdown",
   "id": "001c48a9-406b-40a7-a3f3-7e4286ed428d",
   "metadata": {},
   "source": [
    "# Projet Morpion"
   ]
  },
  {
   "cell_type": "code",
   "execution_count": 6,
   "id": "8c84d601-8072-4924-904f-2d234f9574e0",
   "metadata": {},
   "outputs": [],
   "source": [
    "# Importation de notre classe Morpion depuis le fichier morpion.py\n",
    "# Cette classe contient l'implémentation du jeu de base\n",
    "from morpion import Morpion\n",
    "\n",
    "# Matplotlib : bibliothèque de visualisation pour créer des graphiques\n",
    "# Nous l'utiliserons pour visualiser l'apprentissage de l'IA\n",
    "import matplotlib.pyplot as plt\n",
    "\n",
    "# NumPy : bibliothèque pour le calcul scientifique\n",
    "# Utilisée pour les opérations mathématiques et la manipulation de tableaux\n",
    "import numpy as np\n",
    "\n",
    "# Module random pour générer des nombres aléatoires\n",
    "# Utilisé pour l'exploration dans l'algorithme de Q-Learning\n",
    "import random\n",
    "\n",
    "# IPython.display : module pour contrôler l'affichage dans Jupyter\n",
    "# clear_output permet d'effacer la sortie précédente pour une meilleure visualisation\n",
    "from IPython.display import clear_output"
   ]
  },
  {
   "cell_type": "code",
   "execution_count": 7,
   "id": "64f18e1d-3715-4cb4-89dd-187b374041f6",
   "metadata": {},
   "outputs": [
    {
     "data": {
      "text/html": [
       "<pre style=\"white-space:pre;overflow-x:auto;line-height:normal;font-family:Menlo,'DejaVu Sans Mono',consolas,'Courier New',monospace\">     |     |     \n",
       "  <span style=\"color: #800000; text-decoration-color: #800000\">O</span>  |  <span style=\"color: #800000; text-decoration-color: #800000\">X</span>  |  <span style=\"color: #008080; text-decoration-color: #008080; font-weight: bold\">3</span>\n",
       "_____|_____|_____\n",
       "     |     |     \n",
       "  <span style=\"color: #008080; text-decoration-color: #008080; font-weight: bold\">4</span>  |  <span style=\"color: #008080; text-decoration-color: #008080; font-weight: bold\">5</span>  |  <span style=\"color: #008080; text-decoration-color: #008080; font-weight: bold\">6</span>\n",
       "_____|_____|_____\n",
       "     |     |     \n",
       "  <span style=\"color: #008080; text-decoration-color: #008080; font-weight: bold\">7</span>  |  <span style=\"color: #008080; text-decoration-color: #008080; font-weight: bold\">8</span>  |  <span style=\"color: #008080; text-decoration-color: #008080; font-weight: bold\">9</span>\n",
       "     |     |     \n",
       "</pre>\n"
      ],
      "text/plain": [
       "     |     |     \n",
       "  \u001b[31mO\u001b[0m  |  \u001b[31mX\u001b[0m  |  \u001b[1;36m3\u001b[0m\n",
       "_____|_____|_____\n",
       "     |     |     \n",
       "  \u001b[1;36m4\u001b[0m  |  \u001b[1;36m5\u001b[0m  |  \u001b[1;36m6\u001b[0m\n",
       "_____|_____|_____\n",
       "     |     |     \n",
       "  \u001b[1;36m7\u001b[0m  |  \u001b[1;36m8\u001b[0m  |  \u001b[1;36m9\u001b[0m\n",
       "     |     |     \n"
      ]
     },
     "metadata": {},
     "output_type": "display_data"
    }
   ],
   "source": [
    "# Création d'une nouvelle instance du jeu\n",
    "game = Morpion()\n",
    "\n",
    "# L'IA (joueur 1) joue en position 1 (case en haut à gauche)\n",
    "game.jouer_coup(1, 1)  # Placera un 'O'\n",
    "\n",
    "# Le joueur humain (joueur 2) joue en position 2 (case en haut au milieu)\n",
    "game.jouer_coup(2, 2)  # Placera un 'X'\n",
    "\n",
    "# Affichage de l'état actuel du plateau\n",
    "game.afficher_plateau()"
   ]
  },
  {
   "cell_type": "code",
   "execution_count": 8,
   "id": "35f27c92-aa8b-473a-be79-ccb24d08525a",
   "metadata": {},
   "outputs": [
    {
     "data": {
      "text/html": [
       "<pre style=\"white-space:pre;overflow-x:auto;line-height:normal;font-family:Menlo,'DejaVu Sans Mono',consolas,'Courier New',monospace\">     |     |     \n",
       "  <span style=\"color: #800000; text-decoration-color: #800000\">O</span>  |  <span style=\"color: #800000; text-decoration-color: #800000\">X</span>  |  <span style=\"color: #008080; text-decoration-color: #008080; font-weight: bold\">3</span>\n",
       "_____|_____|_____\n",
       "     |     |     \n",
       "  <span style=\"color: #008080; text-decoration-color: #008080; font-weight: bold\">4</span>  |  <span style=\"color: #008080; text-decoration-color: #008080; font-weight: bold\">5</span>  |  <span style=\"color: #008080; text-decoration-color: #008080; font-weight: bold\">6</span>\n",
       "_____|_____|_____\n",
       "     |     |     \n",
       "  <span style=\"color: #008080; text-decoration-color: #008080; font-weight: bold\">7</span>  |  <span style=\"color: #008080; text-decoration-color: #008080; font-weight: bold\">8</span>  |  <span style=\"color: #800000; text-decoration-color: #800000\">X</span>\n",
       "     |     |     \n",
       "</pre>\n"
      ],
      "text/plain": [
       "     |     |     \n",
       "  \u001b[31mO\u001b[0m  |  \u001b[31mX\u001b[0m  |  \u001b[1;36m3\u001b[0m\n",
       "_____|_____|_____\n",
       "     |     |     \n",
       "  \u001b[1;36m4\u001b[0m  |  \u001b[1;36m5\u001b[0m  |  \u001b[1;36m6\u001b[0m\n",
       "_____|_____|_____\n",
       "     |     |     \n",
       "  \u001b[1;36m7\u001b[0m  |  \u001b[1;36m8\u001b[0m  |  \u001b[31mX\u001b[0m\n",
       "     |     |     \n"
      ]
     },
     "metadata": {},
     "output_type": "display_data"
    }
   ],
   "source": [
    "game.jouer_coup(9,2)\n",
    "game.afficher_plateau()"
   ]
  },
  {
   "cell_type": "code",
   "execution_count": null,
   "id": "ae57fd3b-0388-4244-887f-3da09ff1a898",
   "metadata": {},
   "outputs": [],
   "source": []
  },
  {
   "cell_type": "code",
   "execution_count": 18,
   "id": "b186b44a-e289-427f-9481-57b998f93cd5",
   "metadata": {},
   "outputs": [],
   "source": [
    "def choisir_coup(coups_possibles, etat_actuel, etats_et_valeurs, epsilon=0.1):\n",
    "    \"\"\"\n",
    "    Sélectionne le prochain coup en utilisant la stratégie epsilon-greedy du Q-Learning.\n",
    "\n",
    "    Cette fonction implémente le compromis exploration/exploitation :\n",
    "    - Exploration (probabilité epsilon) : choisit un coup au hasard pour découvrir de nouvelles stratégies\n",
    "    - Exploitation (probabilité 1-epsilon) : choisit le coup avec la plus grande valeur connue\n",
    "\n",
    "    Arguments:\n",
    "    -----------\n",
    "    coups_possibles : list\n",
    "        Liste des coups qui peuvent être joués\n",
    "    etat_actuel : list\n",
    "        Vecteur représentant l'état actuel du jeu\n",
    "    etats_et_valeurs : dict\n",
    "        Dictionnaire contenant les valeurs associées à chaque état déjà rencontré\n",
    "    epsilon : float, optionnel (défaut=0.1)\n",
    "        Probabilité d'explorer (choisir un coup aléatoire)\n",
    "\n",
    "    Retourne:\n",
    "    -----------\n",
    "    action : int\n",
    "        Le coup choisi à jouer\n",
    "    \"\"\"\n",
    "    # Décision d'explorer ou d'exploiter\n",
    "    # exploitation = 0 : on explore (probabilité epsilon)\n",
    "    # exploitation = 1 : on exploite (probabilité 1-epsilon)\n",
    "    exploitation = np.random.choice([0, 1], p=[epsilon, 1 - epsilon])\n",
    "\n",
    "    if exploitation == 0:\n",
    "        # EXPLORATION : On choisit un coup au hasard parmi les coups possibles\n",
    "        action = np.random.choice(coups_possibles)\n",
    "\n",
    "    else:\n",
    "        # EXPLOITATION : On cherche le coup qui maximise la valeur selon l'expérience passée\n",
    "\n",
    "        # Initialisation de la valeur maximale\n",
    "        meilleure_valeur = -999\n",
    "\n",
    "        # On évalue chaque coup possible\n",
    "        for coup in coups_possibles:\n",
    "            # Copie de l'état actuel pour simulation\n",
    "            etat_test = etat_actuel.copy()\n",
    "            # Ajout du coup potentiel à l'état\n",
    "            etat_test.append(coup)\n",
    "\n",
    "            # Vérification si cet état a déjà été rencontré\n",
    "            if tuple(etat_test) in etats_et_valeurs.keys():\n",
    "                # Si oui, on récupère sa valeur\n",
    "                valeur = etats_et_valeurs[tuple(etat_test)]\n",
    "            else:\n",
    "                # Si non, on initialise sa valeur à 0\n",
    "                valeur = 0\n",
    "\n",
    "            # Si ce coup mène à une meilleure valeur que ce qu'on a trouvé jusqu'ici\n",
    "            if valeur > meilleure_valeur:\n",
    "                # On le garde comme meilleur coup\n",
    "                action = coup\n",
    "                meilleure_valeur = valeur\n",
    "\n",
    "            # On retire le coup testé de l'état avant de tester le suivant\n",
    "            etat_test.remove(coup)\n",
    "\n",
    "    return action"
   ]
  },
  {
   "cell_type": "code",
   "execution_count": 24,
   "id": "0d0d0cdd-de24-442d-abdd-3126861fa418",
   "metadata": {},
   "outputs": [
    {
     "data": {
      "image/png": "[encoded data removed]",
      "text/plain": [
       "<Figure size 1000x300 with 2 Axes>"
      ]
     },
     "metadata": {},
     "output_type": "display_data"
    }
   ],
   "source": [
    "# Création d'un dictionnaire d'états et leurs valeurs associées\n",
    "# Chaque clé représente un état du jeu sous forme de tuple, et chaque valeur est une estimation de la récompense attendue pour cet état.\n",
    "etats_et_valeurs = {\n",
    "    (1): 0.1,          # État après le coup 1 : faible valeur estimée\n",
    "    (1, 5, 9): 0.02,   # État après les coups 1, 5 puis 9 : faible valeur estimée\n",
    "    (1, 5, 3): 0.4,    # État après les coups 1, 5 puis 3 : valeur haute estimée\n",
    "    (2): 0.1,          # État après le coup 2 : faible valeur estimée\n",
    "    (2, 3, 1): 0.2,    # État après les coups 2, 3, puis 1 : faible valeur estimée\n",
    "    (2, 3, 5): 0.5,    # État après les coups 2, 3, puis 9 : bonne valeur estimée\n",
    "}\n",
    "\n",
    "# Test de la Situation Hypothétique 1\n",
    "# ----------------------------------\n",
    "# On simule une situation où le coup 1 a déjà été joué, et on observe quel coup l'agent choisit ensuite.\n",
    "\n",
    "# État initial : coup 1 déjà joué\n",
    "etat_actuel_1 = [1, 5]\n",
    "\n",
    "# Coups encore disponibles sur le plateau\n",
    "coups_possibles_1 = [2, 3, 4, 6, 7, 8, 9]\n",
    "\n",
    "# On lance 100 simulations pour voir quels coups sont choisis par l'agent.\n",
    "# Cela permet de visualiser le compromis exploration/exploitation en action.\n",
    "coups_choisis_1 = []\n",
    "for i in range(100):\n",
    "    coups_choisis_1.append(choisir_coup(coups_possibles_1, etat_actuel_1, etats_et_valeurs, 0.9))\n",
    "\n",
    "# Test de la Situation Hypothétique 2\n",
    "# ----------------------------------\n",
    "# On simule une situation où les coups 2 puis 3 ont déjà été joués, et on observe quel coup l'agent choisit ensuite.\n",
    "\n",
    "# État initial : coups 2 puis 3 déjà joués\n",
    "etat_actuel_2 = [2, 3]\n",
    "\n",
    "# Coups encore disponibles sur le plateau\n",
    "coups_possibles_2 = [1, 4, 5, 6, 7, 8, 9]\n",
    "\n",
    "# On lance 100 simulations pour voir quels coups sont choisis par l'agent.\n",
    "coups_choisis_2 = []\n",
    "for i in range(100):\n",
    "    coups_choisis_2.append(choisir_coup(coups_possibles_2, etat_actuel_2, etats_et_valeurs, 0.9))\n",
    "\n",
    "# Visualisation des résultats avec deux histogrammes\n",
    "# ------------------------------------------------\n",
    "# On crée deux histogrammes pour comparer les choix de l'agent dans les deux situations hypothétiques.\n",
    "\n",
    "fig, axes = plt.subplots(1, 2, figsize=(10, 3))\n",
    "\n",
    "# Histogramme pour la situation 1\n",
    "axes[0].hist(coups_choisis_1, bins=range(1, 11), align='left', rwidth=0.8)\n",
    "axes[0].set_title('Situation hypothétique 1 (après coup 1)')\n",
    "axes[0].set_xlabel('Coup choisi')\n",
    "axes[0].set_ylabel('Fréquence')\n",
    "\n",
    "# Histogramme pour la situation 2\n",
    "axes[1].hist(coups_choisis_2, bins=range(1, 11), align='left', rwidth=0.8)\n",
    "axes[1].set_title('Situation hypothétique 2 (après coups 2,3)')\n",
    "axes[1].set_xlabel('Coup choisi')\n",
    "axes[1].set_ylabel('Fréquence')\n",
    "\n",
    "# Ajustement de la disposition pour éviter les chevauchements\n",
    "plt.tight_layout()\n",
    "\n",
    "# Affichage des histogrammes\n",
    "plt.show()"
   ]
  },
  {
   "cell_type": "code",
   "execution_count": null,
   "id": "c7b483ff-84cd-4154-aed9-3a764498795b",
   "metadata": {},
   "outputs": [],
   "source": []
  },
  {
   "cell_type": "code",
   "execution_count": null,
   "id": "1fdbc3e1-1a8b-4ba5-8932-d14076c35f55",
   "metadata": {},
   "outputs": [],
   "source": []
  }
 ],
 "metadata": {
  "kernelspec": {
   "display_name": "Python 3 (ipykernel)",
   "language": "python",
   "name": "python3"
  },
  "language_info": {
   "codemirror_mode": {
    "name": "ipython",
    "version": 3
   },
   "file_extension": ".py",
   "mimetype": "text/x-python",
   "name": "python",
   "nbconvert_exporter": "python",
   "pygments_lexer": "ipython3",
   "version": "3.12.8"
  }
 },
 "nbformat": 4,
 "nbformat_minor": 5
}
